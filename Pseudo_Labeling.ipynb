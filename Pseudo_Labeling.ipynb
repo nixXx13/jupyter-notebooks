{
  "nbformat": 4,
  "nbformat_minor": 0,
  "metadata": {
    "colab": {
      "name": "Pseudo Labeling.ipynb",
      "provenance": [],
      "collapsed_sections": [
        "E3XularK0eWR",
        "t58UKjGK2vgI",
        "rouXBmj10uax",
        "OAk9FGyX2BlA",
        "yRifrZt12Jwg",
        "XzYR3ZUz2aaR"
      ],
      "toc_visible": true,
      "include_colab_link": true
    },
    "kernelspec": {
      "name": "python3",
      "display_name": "Python 3"
    },
    "accelerator": "GPU"
  },
  "cells": [
    {
      "cell_type": "markdown",
      "metadata": {
        "id": "view-in-github",
        "colab_type": "text"
      },
      "source": [
        "<a href=\"https://colab.research.google.com/github/nixXx13/jupyter-notebooks/blob/master/Pseudo_Labeling.ipynb\" target=\"_parent\"><img src=\"https://colab.research.google.com/assets/colab-badge.svg\" alt=\"Open In Colab\"/></a>"
      ]
    },
    {
      "cell_type": "markdown",
      "metadata": {
        "id": "w2cADtz1wiTy",
        "colab_type": "text"
      },
      "source": [
        "## Brief"
      ]
    },
    {
      "cell_type": "markdown",
      "metadata": {
        "id": "2zv_7Q_1wqAr",
        "colab_type": "text"
      },
      "source": [
        "Ive tried tackling the task of image classification of 120 dog breeds.\n",
        "data included 10k labeled imgs and 10k test images without any label.\n",
        "\n",
        ".\n",
        "\n",
        "\n",
        "**The problem** - labeled training data isnt sufficient for achieving adequate model accuracy.\n",
        "\n",
        "**possible solution** - Because test data is very large, using [pseudo labeling](http://deeplearning.net/wp-content/uploads/2013/03/pseudo_label_final.pdf) might help increase accuracy\n",
        "\n",
        "\n",
        "\n",
        "\n",
        "**The problem 2** - keras's flow_from_directory uses the img directory as its label while we want to use our pseudo generated labels.\n",
        "\n",
        "**possible solution 2** - implement our own generator so we can 'inject' our pseudo labels\n",
        "\n"
      ]
    },
    {
      "cell_type": "markdown",
      "metadata": {
        "id": "E3XularK0eWR",
        "colab_type": "text"
      },
      "source": [
        "## Setup\n",
        "imports, data download and general functions declarations."
      ]
    },
    {
      "cell_type": "code",
      "metadata": {
        "id": "XzmGr9sn0dFK",
        "colab_type": "code",
        "outputId": "f440a391-483d-4714-bd87-77674ba44b40",
        "colab": {
          "base_uri": "https://localhost:8080/",
          "height": 649
        }
      },
      "source": [
        "%pylab inline\n",
        "import numpy as np\n",
        "\n",
        "# importing utils from drive\n",
        "from google.colab import drive\n",
        "drive.mount('/content/drive')\n",
        "UTILS_DRIVE_FNAMES = ['thirdPartyUtils.py' , 'py_utils.py']\n",
        "UTILS_DRIVE_DIR = '/content/drive/My Drive/Colab Notebooks/Utils/'\n",
        "for fname in UTILS_DRIVE_FNAMES:\n",
        "  with open('{}{}'.format(UTILS_DRIVE_DIR,fname), 'r') as f:\n",
        "    with open(fname,'w') as fw:\n",
        "      fw.write(f.read())\n",
        "    \n",
        "from thirdPartyUtils import colab_utils\n",
        "colab_utils(setupKaggle = True)\n",
        "\n",
        "!pip install bcolz\n",
        "from py_utils import *\n",
        "# Pics inflation and dir oredering\n",
        "\n",
        "!kaggle competitions download -c dog-breed-identification\n",
        "HOME = '/content/dogBreed'\n",
        "\n",
        "!unzip labels.csv.zip\n",
        "import csv\n",
        "\n",
        "mydict = csvToDict(\"labels.csv\")\n",
        "del mydict['id']\n",
        "\n",
        "classes = list(set(mydict.values()))\n",
        "makeDirs(classes,'/content/dogBreed')"
      ],
      "execution_count": 0,
      "outputs": [
        {
          "output_type": "stream",
          "text": [
            "Populating the interactive namespace from numpy and matplotlib\n",
            "Go to this URL in a browser: https://accounts.google.com/o/oauth2/auth?client_id=947318989803-6bn6qk8qdgf4n4g3pfee6491hc0brc4i.apps.googleusercontent.com&redirect_uri=urn%3Aietf%3Awg%3Aoauth%3A2.0%3Aoob&scope=email%20https%3A%2F%2Fwww.googleapis.com%2Fauth%2Fdocs.test%20https%3A%2F%2Fwww.googleapis.com%2Fauth%2Fdrive%20https%3A%2F%2Fwww.googleapis.com%2Fauth%2Fdrive.photos.readonly%20https%3A%2F%2Fwww.googleapis.com%2Fauth%2Fpeopleapi.readonly&response_type=code\n",
            "\n",
            "Enter your authorization code:\n",
            "··········\n",
            "Mounted at /content/drive\n",
            "Download 100%.\n",
            " === Kaggle setup succeeded!\n",
            "Collecting bcolz\n",
            "\u001b[?25l  Downloading https://files.pythonhosted.org/packages/5c/4e/23942de9d5c0fb16f10335fa83e52b431bcb8c0d4a8419c9ac206268c279/bcolz-1.2.1.tar.gz (1.5MB)\n",
            "\u001b[K     |████████████████████████████████| 1.5MB 2.9MB/s \n",
            "\u001b[?25hRequirement already satisfied: numpy>=1.7 in /usr/local/lib/python3.6/dist-packages (from bcolz) (1.16.5)\n",
            "Building wheels for collected packages: bcolz\n",
            "  Building wheel for bcolz (setup.py) ... \u001b[?25l\u001b[?25hdone\n",
            "  Created wheel for bcolz: filename=bcolz-1.2.1-cp36-cp36m-linux_x86_64.whl size=2661601 sha256=337187b65573e328efeb7e83b5725171a4edd5de4029c38dce64e5e4707e46a7\n",
            "  Stored in directory: /root/.cache/pip/wheels/9f/78/26/fb8c0acb91a100dc8914bf236c4eaa4b207cb876893c40b745\n",
            "Successfully built bcolz\n",
            "Installing collected packages: bcolz\n",
            "Successfully installed bcolz-1.2.1\n",
            "Warning: Your Kaggle API key is readable by other users on this system! To fix this, you can run 'chmod 600 /root/.kaggle/kaggle.json'\n",
            "Warning: Looks like you're using an outdated API Version, please consider updating (server 1.5.6 / client 1.5.4)\n",
            "Downloading labels.csv.zip to /content\n",
            "  0% 0.00/214k [00:00<?, ?B/s]\n",
            "100% 214k/214k [00:00<00:00, 65.4MB/s]\n",
            "Downloading sample_submission.csv.zip to /content\n",
            "  0% 0.00/281k [00:00<?, ?B/s]\n",
            "100% 281k/281k [00:00<00:00, 85.7MB/s]\n",
            "Downloading test.zip to /content\n",
            " 96% 332M/346M [00:03<00:00, 110MB/s]\n",
            "100% 346M/346M [00:03<00:00, 103MB/s]\n",
            "Downloading train.zip to /content\n",
            " 99% 340M/345M [00:02<00:00, 147MB/s]\n",
            "100% 345M/345M [00:02<00:00, 131MB/s]\n",
            "Archive:  labels.csv.zip\n",
            "  inflating: labels.csv              \n",
            " === Created 120 dirs in /content/dogBreed/<train/valid> dir succesfully\n"
          ],
          "name": "stdout"
        }
      ]
    },
    {
      "cell_type": "code",
      "metadata": {
        "id": "X0tifdnWUsYO",
        "colab_type": "code",
        "outputId": "1a4ab872-19a5-499d-e50d-a5905dafd486",
        "colab": {
          "base_uri": "https://localhost:8080/",
          "height": 68
        }
      },
      "source": [
        "!unzip train.zip -d /content/dogBreed | wc -l\n",
        "import shutil\n",
        "\n",
        "trainDir = '/content/dogBreed/train'\n",
        "\n",
        "!ls -l $trainDir/*.jpg | wc -l\n",
        "i=0\n",
        "for k in mydict.keys():\n",
        "  shutil.move('{}/{}.jpg'.format(trainDir,k) , '{}/{}/{}.jpg'.format(trainDir,mydict[k],k))\n",
        "  i+=1\n",
        "  \n",
        "print(' === moved {} files succesfully to train dir'.format(i))"
      ],
      "execution_count": 0,
      "outputs": [
        {
          "output_type": "stream",
          "text": [
            "10223\n",
            "10222\n",
            " === moved 10222 files succesfully to train dir\n"
          ],
          "name": "stdout"
        }
      ]
    },
    {
      "cell_type": "code",
      "metadata": {
        "id": "voUMa4oZlJ9Y",
        "colab_type": "code",
        "outputId": "8c82b05e-37cc-4db0-971e-d4bcdd72f797",
        "colab": {
          "base_uri": "https://localhost:8080/",
          "height": 68
        }
      },
      "source": [
        "from glob import glob\n",
        "g = glob(HOME+\"/train/*/*.jpg\")\n",
        "g_rand = np.random.permutation(g)\n",
        "\n",
        "# VALID_NUM = 4000\n",
        "VALID_NUM = 2000\n",
        "\n",
        "i=0\n",
        "for i in range(VALID_NUM):\n",
        "  shutil.move(g_rand[i] , g_rand[i].replace('train','valid') )\n",
        "  i+=1\n",
        "\n",
        "print(' === moved {} files succesfully to valid dir'.format(i))\n",
        "\n",
        "g_train = glob(HOME+'/train/*/*.jpg')\n",
        "g_valid = glob(HOME+'/valid/*/*.jpg')\n",
        "\n",
        "print(' === {} pics in train dirs'.format(len(g_train)))\n",
        "print(' === {} pics in valid dirs'.format(len(g_valid)))"
      ],
      "execution_count": 0,
      "outputs": [
        {
          "output_type": "stream",
          "text": [
            " === moved 2000 files succesfully to valid dir\n",
            " === 8222 pics in train dirs\n",
            " === 2000 pics in valid dirs\n"
          ],
          "name": "stdout"
        }
      ]
    },
    {
      "cell_type": "code",
      "metadata": {
        "id": "8J1WoZJbnpom",
        "colab_type": "code",
        "outputId": "0e89fdf0-48c7-498b-8345-ab75c22d6f0e",
        "colab": {
          "base_uri": "https://localhost:8080/",
          "height": 51
        }
      },
      "source": [
        "#unpacking test.zip to proper dir\n",
        "\n",
        "testDir = \"/content/dogBreed/test/unknown\"\n",
        "g_testDir = glob(testDir + \"/*.jpg\")\n",
        "\n",
        "if len(g_testDir) == 0:\n",
        "  !unzip test.zip -d /content/dogBreed/test | wc -l\n",
        "\n",
        "  from glob import glob\n",
        "  g = glob(\"/content/dogBreed/test/test/*.jpg\")\n",
        "\n",
        "  len(g)\n",
        "\n",
        "  for img in g:\n",
        "  #   print(img.replace(\"test/test\",\"test/unknown\"))\n",
        "    shutil.move(img ,img.replace(\"test/test\",\"test/unknown\") )\n",
        "\n",
        "  !ls -l /content/dogBreed/test/unknown | wc -l\n",
        "\n",
        "  !rm -rf /content/dogBreed/test/test"
      ],
      "execution_count": 0,
      "outputs": [
        {
          "output_type": "stream",
          "text": [
            "10359\n",
            "10358\n"
          ],
          "name": "stdout"
        }
      ]
    },
    {
      "cell_type": "code",
      "metadata": {
        "id": "WgMIzKp7nNYQ",
        "colab_type": "code",
        "outputId": "4c3f19f5-757f-42c7-f9a3-389f62de8811",
        "colab": {
          "base_uri": "https://localhost:8080/",
          "height": 34
        }
      },
      "source": [
        "import keras\n",
        "# layers\n",
        "from keras.layers import Flatten,Dense,Conv2D,MaxPooling2D,Dropout,BatchNormalization,Convolution2D\n",
        "\n",
        "# optimizers\n",
        "from keras.optimizers import Adam\n",
        "\n",
        "from keras.models import Sequential\n",
        "from keras.applications.vgg16 import preprocess_input\n",
        "from keras.layers.core import Lambda\n",
        "\n",
        "def getVggTop():\n",
        "  \n",
        "  vgg = keras.applications.VGG16(weights = \"imagenet\", include_top=False,input_shape=(224,224,3))\n",
        "  model = Sequential()\n",
        "  model.add(Lambda(preprocess_input, input_shape=(224,224,3), output_shape=(224,224,3)))\n",
        "\n",
        "  vgg_layers = vgg.layers\n",
        "  vgg_layers.pop(0)\n",
        "  for layer in vgg_layers:\n",
        "    layer.trainable=False\n",
        "    model.add(layer)\n",
        "    \n",
        "  return model\n",
        "\n",
        "def getModel(\n",
        "    do_cnn = 0.2,\n",
        "    do_dense = 0.5,\n",
        "    dense_width = 256,\n",
        "    verbose = 0\n",
        "  ):\n",
        "  model = Sequential(\n",
        "        getVggTop().layers + \n",
        "        [\n",
        "         MaxPooling2D(),\n",
        "         BatchNormalization(),\n",
        "         Dropout(0.2),\n",
        "         Flatten(),\n",
        "         Dense(256,activation='relu'),\n",
        "         BatchNormalization(),\n",
        "         Dropout(0.4),\n",
        "         Dense(120,activation='softmax')\n",
        "        ]\n",
        "   )\n",
        "  print(model)\n",
        "  print(model.summary()) if verbose else None\n",
        "  return model\n",
        "\n",
        "from keras.preprocessing import image\n",
        "BS=64\n",
        "\n",
        "def get_batch(\n",
        "    dir,\n",
        "    gen          = image.ImageDataGenerator(), \n",
        "    batch_size   = 64,\n",
        "    shuffle      = True,\n",
        "    target_size  = (224,224),\n",
        "    class_mode   = 'categorical'\n",
        "    ):\n",
        "    return gen.flow_from_directory(dir,class_mode = class_mode,target_size=target_size,shuffle = shuffle,batch_size = batch_size )\n",
        "\n",
        "def get_batches(fDir,\n",
        "                gen = image.ImageDataGenerator(), \n",
        "                shuffle = False,\n",
        "                batch_size = 64,\n",
        "                class_mode = 'categorical',\n",
        "                target_size= (224,224),\n",
        "               ):\n",
        "    str_shuffle = \"train_shuffle\".ljust(20,\" \")\n",
        "    str_batch_size = \"batch_size\".ljust(20,\" \")\n",
        "    str_class_mode = \"class_mode\".ljust(20,\" \")\n",
        "    gen_id         = \"gen used\".ljust(20,\" \")\n",
        "    str_target_size = \"target_size\".ljust(20,\" \")\n",
        "    print(\"Creating batches with following params -\\n{}:{}\\n{}:{}\\n{}:{}\\n{}:{}\\n{}:{}\\n\".format(str_shuffle,shuffle,str_batch_size,batch_size,str_class_mode,class_mode,gen_id,str(gen),str_target_size,str(target_size)))\n",
        "    train_batch = get_batch(fDir + '/train',gen = gen,batch_size=batch_size,shuffle=shuffle,class_mode=class_mode,target_size=target_size)\n",
        "    valid_batch = get_batch(fDir + '/valid',gen = gen,batch_size=batch_size,shuffle=False,class_mode=class_mode,target_size=target_size)\n",
        "    test_batch  = get_batch(fDir + '/test',gen = gen,batch_size=batch_size,shuffle=False,class_mode=class_mode,target_size=target_size)\n",
        "    \n",
        "    return train_batch,valid_batch,test_batch\n",
        "\n",
        "from keras.utils.np_utils import to_categorical    \n",
        "        \n",
        "def pyPlot(histList,pType=['acc','loss'],titleList = None):\n",
        "  \n",
        "    def getMaxValue(historyObj,plotType,prevMax):\n",
        "      maxVal = max([max(historyObj.history['{}'.format(plotType)]) , max(historyObj.history['val_{}'.format(plotType)])])\n",
        "      if prevMax>maxVal:\n",
        "        return prevMax\n",
        "      return maxVal\n",
        "  \n",
        "    def setDefaultTitles():\n",
        "      titleList = []\n",
        "      for i in range(len(histList)):\n",
        "        titleList.append(str(i))\n",
        "      return titleList\n",
        "          \n",
        "    if type(histList) != list:\n",
        "      tmp = histList\n",
        "      histList = []\n",
        "      histList.append(tmp)\n",
        "      \n",
        "    if titleList != None:\n",
        "      if len(titleList) != len(histList):\n",
        "        print(\"Titles number !=  Hists number, Setting default titles\")\n",
        "        titleList = setDefaultTitles()\n",
        "    \n",
        "    else:\n",
        "      titleList = setDefaultTitles()\n",
        "          \n",
        "    ncols = len(pType)\n",
        "    plt.figure(figsize=(15,15))\n",
        "    \n",
        "    for i,pt in enumerate(pType):\n",
        "      \n",
        "      plt.subplot(2,ncols,i+1)\n",
        "      plt.title(pt)\n",
        "      plt.ylabel('{}'.format(pt))\n",
        "      plt.xlabel('epoch')\n",
        "      \n",
        "      legend = []\n",
        "      maxVal = 1\n",
        "\n",
        "      for j,h in enumerate(histList):\n",
        "        plt.plot(h.history['{}'.format(pt)])\n",
        "        plt.plot(h.history['val_{}'.format(pt)])\n",
        "\n",
        "        legend.append('train \"{}\"'.format(titleList[j]))\n",
        "        legend.append('valid \"{}\"'.format(titleList[j]))\n",
        "        \n",
        "        maxVal = getMaxValue(h,pt,maxVal)\n",
        "\n",
        "      plt.ylim(0,maxVal+0.2)\n",
        "      plt.legend(legend,loc=0)\n",
        "    plt.show()"
      ],
      "execution_count": 0,
      "outputs": [
        {
          "output_type": "stream",
          "text": [
            "Using TensorFlow backend.\n"
          ],
          "name": "stderr"
        }
      ]
    },
    {
      "cell_type": "markdown",
      "metadata": {
        "id": "t58UKjGK2vgI",
        "colab_type": "text"
      },
      "source": [
        "## Generator implementation\n"
      ]
    },
    {
      "cell_type": "markdown",
      "metadata": {
        "id": "_2FELf9r5c1p",
        "colab_type": "text"
      },
      "source": [
        "In order to benefit from pseudo labeling, Pseudo labeled data vs regualar training labeled data should be in a certain ratio.\n",
        "\n",
        "***mixIterator*** takes two iterators and wraps them as one iterator.\n",
        "Ive used it to mix regualar training iterator with 48 batch size and pseudo labeled iterator of 16 batch size to achieve a 64 mixed iterator with a ratio of 25% pseudo labeled data."
      ]
    },
    {
      "cell_type": "code",
      "metadata": {
        "id": "EJxwmkpA5aNu",
        "colab_type": "code",
        "colab": {}
      },
      "source": [
        "class mixIterator():\n",
        "  def __init__(self,itersList):\n",
        "    self.itersList = itersList\n",
        "    self.samples = sum([it.samples for it in itersList])\n",
        "    print(\"mixIterator:Total number of imgs {}\".format(self.samples))\n",
        "   \n",
        "  def reset(self):\n",
        "    for it in self.itersList : it.reset \n",
        "  \n",
        "  def __iter__(self):\n",
        "    return self\n",
        "  \n",
        "  def __next__(self):\n",
        "    a = next(self.itersList[0])\n",
        "    b = next(self.itersList[1])\n",
        "    imgs = np.concatenate((a[0],b[0]))\n",
        "    labels = np.concatenate((a[1],b[1])) \n",
        "\n",
        "    return (imgs,labels)\n",
        "  "
      ],
      "execution_count": 0,
      "outputs": []
    },
    {
      "cell_type": "markdown",
      "metadata": {
        "id": "EYrr4ZU463zw",
        "colab_type": "text"
      },
      "source": [
        "***exteralLabelsIter*** (External Labels Iter).accepts external labels as argument to its constructor.\n",
        "uses keras's flow_from_directory (with class_mode = None which returns solely imgs without any labels) and returns a label assosiated with it from the labels argument. "
      ]
    },
    {
      "cell_type": "code",
      "metadata": {
        "id": "KYWU5Nn223KJ",
        "colab_type": "code",
        "colab": {}
      },
      "source": [
        "class exteralLabelsIter():\n",
        "  def __init__(self,directory,labels,\n",
        "                      batch_size,\n",
        "                      target_size = (224,224),\n",
        "                      gen = image.ImageDataGenerator(), \n",
        "              ):\n",
        "    self.imgIter = get_batch(directory,batch_size=int(batch_size),shuffle=False,class_mode=None,target_size=target_size,gen=gen)\n",
        "    self.labels = np.concatenate([labels,labels]) # make room for extras\n",
        "    self.labels_realSize = int(self.labels.shape[0]/2)\n",
        "    self.BS = int(batch_size)\n",
        "    self.firstIndex = 0\n",
        "    if self.labels_realSize != self.imgIter.samples:\n",
        "      raise Exception(\"exteralLabelsIter:Mismatch! Imgs number is {} and labels num is {}\".format(self.imgIter.samples,self.labels_realSize))\n",
        "    self.samples = self.imgIter.samples\n",
        "  \n",
        "  def reset(self):\n",
        "    self.imgIter.reset()\n",
        "    self.firstIndex = 0\n",
        "  \n",
        "  def __iter__(self):\n",
        "    return self\n",
        "  \n",
        "  def __next__(self):\n",
        "    imgs = next(self.imgIter)\n",
        "    \n",
        "    labels_num = imgs.shape[0] # equals self.Bs or less when reacing end of imgs list\n",
        "    \n",
        "    endIndex = self.firstIndex+labels_num\n",
        "    if self.firstIndex>=self.labels_realSize and endIndex>=self.labels_realSize:\n",
        "      self.firstIndex=int(self.firstIndex%self.labels_realSize)\n",
        "      \n",
        "    endIndex = self.firstIndex+labels_num\n",
        "    \n",
        "    labels = self.labels[self.firstIndex:endIndex]\n",
        "    self.firstIndex = endIndex\n",
        "    \n",
        "    return (imgs,labels)"
      ],
      "execution_count": 0,
      "outputs": []
    },
    {
      "cell_type": "markdown",
      "metadata": {
        "id": "rouXBmj10uax",
        "colab_type": "text"
      },
      "source": [
        "## Base model training\n"
      ]
    },
    {
      "cell_type": "markdown",
      "metadata": {
        "id": "cztCS07s3YKN",
        "colab_type": "text"
      },
      "source": [
        "We will use base model weights as our starting point to the following training processes (which will run 10 addional epochs each):\n",
        "\n",
        "\n",
        "*   Training a model using labeled data only.\n",
        " \n",
        "*   Training a model using data with pseudo labeling ( as one hot vectors ) as described in the paper ( link in brief ).\n",
        "* Training a model using data with pseudo labeling ( as probability vectors ).\n",
        "\n",
        "\n",
        "training set has 8222 imgs, validation set is 2000.\n"
      ]
    },
    {
      "cell_type": "code",
      "metadata": {
        "id": "ueTapEqK2Aei",
        "colab_type": "code",
        "outputId": "107bd54a-df55-4a3b-bf18-d597b4059e94",
        "colab": {
          "base_uri": "https://localhost:8080/",
          "height": 1000
        }
      },
      "source": [
        "lr = 3e-3\n",
        "EP = 10\n",
        "hists = []\n",
        "BS = 64\n",
        "gen = image.ImageDataGenerator(rotation_range=10, width_shift_range=0.1, \n",
        "       height_shift_range=0.1, shear_range=0.15, zoom_range=0.1, \n",
        "       channel_shift_range=10., horizontal_flip=True)\n",
        "\n",
        "titles = [ \"\" ]\n",
        "\n",
        "\n",
        "train_batch,valid_batch,test_batch = get_batches(HOME, shuffle=True, batch_size=BS,gen=gen)\n",
        "\n",
        "train_classes = train_batch.classes\n",
        "train_labels = to_categorical(train_batch.classes)\n",
        "train_filenames = train_batch.filenames\n",
        "\n",
        "val_classes = valid_batch.classes\n",
        "val_labels = to_categorical(valid_batch.classes)\n",
        "val_filenames = valid_batch.filenames\n",
        "\n",
        "model = getModel()\n",
        "model.compile(Adam(lr=lr), loss='categorical_crossentropy', metrics=['accuracy'])\n",
        "hist = model.fit_generator(train_batch,\n",
        "                            steps_per_epoch = train_batch.samples/BS,\n",
        "                            validation_data = valid_batch,\n",
        "                            validation_steps = valid_batch.samples/BS,\n",
        "                            epochs=EP)\n",
        "\n",
        "hists.append(hist)\n",
        "\n",
        "pyPlot(hists,titleList=titles)\n",
        "\n",
        "model.save_weights(\"model.h5\")"
      ],
      "execution_count": 0,
      "outputs": [
        {
          "output_type": "stream",
          "text": [
            "Creating batches with following params -\n",
            "train_shuffle       :True\n",
            "batch_size          :64\n",
            "class_mode          :categorical\n",
            "gen used            :<keras.preprocessing.image.ImageDataGenerator object at 0x7f94fb96f358>\n",
            "target_size         :(224, 224)\n",
            "\n",
            "Found 8222 images belonging to 120 classes.\n",
            "Found 2000 images belonging to 120 classes.\n",
            "Found 10357 images belonging to 1 classes.\n",
            "WARNING:tensorflow:From /usr/local/lib/python3.6/dist-packages/keras/backend/tensorflow_backend.py:66: The name tf.get_default_graph is deprecated. Please use tf.compat.v1.get_default_graph instead.\n",
            "\n",
            "WARNING:tensorflow:From /usr/local/lib/python3.6/dist-packages/keras/backend/tensorflow_backend.py:541: The name tf.placeholder is deprecated. Please use tf.compat.v1.placeholder instead.\n",
            "\n",
            "WARNING:tensorflow:From /usr/local/lib/python3.6/dist-packages/keras/backend/tensorflow_backend.py:4432: The name tf.random_uniform is deprecated. Please use tf.random.uniform instead.\n",
            "\n",
            "WARNING:tensorflow:From /usr/local/lib/python3.6/dist-packages/keras/backend/tensorflow_backend.py:4267: The name tf.nn.max_pool is deprecated. Please use tf.nn.max_pool2d instead.\n",
            "\n",
            "Downloading data from https://github.com/fchollet/deep-learning-models/releases/download/v0.1/vgg16_weights_tf_dim_ordering_tf_kernels_notop.h5\n",
            "58892288/58889256 [==============================] - 1s 0us/step\n",
            "WARNING:tensorflow:From /usr/local/lib/python3.6/dist-packages/keras/backend/tensorflow_backend.py:190: The name tf.get_default_session is deprecated. Please use tf.compat.v1.get_default_session instead.\n",
            "\n",
            "WARNING:tensorflow:From /usr/local/lib/python3.6/dist-packages/keras/backend/tensorflow_backend.py:197: The name tf.ConfigProto is deprecated. Please use tf.compat.v1.ConfigProto instead.\n",
            "\n",
            "WARNING:tensorflow:From /usr/local/lib/python3.6/dist-packages/keras/backend/tensorflow_backend.py:203: The name tf.Session is deprecated. Please use tf.compat.v1.Session instead.\n",
            "\n",
            "WARNING:tensorflow:From /usr/local/lib/python3.6/dist-packages/keras/backend/tensorflow_backend.py:207: The name tf.global_variables is deprecated. Please use tf.compat.v1.global_variables instead.\n",
            "\n",
            "WARNING:tensorflow:From /usr/local/lib/python3.6/dist-packages/keras/backend/tensorflow_backend.py:216: The name tf.is_variable_initialized is deprecated. Please use tf.compat.v1.is_variable_initialized instead.\n",
            "\n",
            "WARNING:tensorflow:From /usr/local/lib/python3.6/dist-packages/keras/backend/tensorflow_backend.py:223: The name tf.variables_initializer is deprecated. Please use tf.compat.v1.variables_initializer instead.\n",
            "\n",
            "WARNING:tensorflow:From /usr/local/lib/python3.6/dist-packages/keras/backend/tensorflow_backend.py:2041: The name tf.nn.fused_batch_norm is deprecated. Please use tf.compat.v1.nn.fused_batch_norm instead.\n",
            "\n",
            "WARNING:tensorflow:From /usr/local/lib/python3.6/dist-packages/keras/backend/tensorflow_backend.py:148: The name tf.placeholder_with_default is deprecated. Please use tf.compat.v1.placeholder_with_default instead.\n",
            "\n",
            "WARNING:tensorflow:From /usr/local/lib/python3.6/dist-packages/keras/backend/tensorflow_backend.py:3733: calling dropout (from tensorflow.python.ops.nn_ops) with keep_prob is deprecated and will be removed in a future version.\n",
            "Instructions for updating:\n",
            "Please use `rate` instead of `keep_prob`. Rate should be set to `rate = 1 - keep_prob`.\n",
            "<keras.engine.sequential.Sequential object at 0x7f94c03066a0>\n",
            "WARNING:tensorflow:From /usr/local/lib/python3.6/dist-packages/keras/optimizers.py:793: The name tf.train.Optimizer is deprecated. Please use tf.compat.v1.train.Optimizer instead.\n",
            "\n",
            "WARNING:tensorflow:From /usr/local/lib/python3.6/dist-packages/keras/backend/tensorflow_backend.py:3576: The name tf.log is deprecated. Please use tf.math.log instead.\n",
            "\n",
            "WARNING:tensorflow:From /usr/local/lib/python3.6/dist-packages/tensorflow_core/python/ops/math_grad.py:1424: where (from tensorflow.python.ops.array_ops) is deprecated and will be removed in a future version.\n",
            "Instructions for updating:\n",
            "Use tf.where in 2.0, which has the same broadcast rule as np.where\n",
            "WARNING:tensorflow:From /usr/local/lib/python3.6/dist-packages/keras/backend/tensorflow_backend.py:1033: The name tf.assign_add is deprecated. Please use tf.compat.v1.assign_add instead.\n",
            "\n",
            "WARNING:tensorflow:From /usr/local/lib/python3.6/dist-packages/keras/backend/tensorflow_backend.py:1020: The name tf.assign is deprecated. Please use tf.compat.v1.assign instead.\n",
            "\n",
            "Epoch 1/10\n",
            "129/128 [==============================] - 182s 1s/step - loss: 3.0071 - acc: 0.2974 - val_loss: 1.7263 - val_acc: 0.5120\n",
            "Epoch 2/10\n",
            "129/128 [==============================] - 164s 1s/step - loss: 1.4977 - acc: 0.5824 - val_loss: 1.4689 - val_acc: 0.5765\n",
            "Epoch 3/10\n",
            "129/128 [==============================] - 166s 1s/step - loss: 1.2154 - acc: 0.6449 - val_loss: 1.4170 - val_acc: 0.6000\n",
            "Epoch 4/10\n",
            "129/128 [==============================] - 165s 1s/step - loss: 1.0008 - acc: 0.7039 - val_loss: 1.3593 - val_acc: 0.6185\n",
            "Epoch 5/10\n",
            "129/128 [==============================] - 164s 1s/step - loss: 0.9092 - acc: 0.7296 - val_loss: 1.4035 - val_acc: 0.6095\n",
            "Epoch 6/10\n",
            "129/128 [==============================] - 164s 1s/step - loss: 0.8369 - acc: 0.7453 - val_loss: 1.4219 - val_acc: 0.6165\n",
            "Epoch 7/10\n",
            "129/128 [==============================] - 167s 1s/step - loss: 0.7817 - acc: 0.7528 - val_loss: 1.4287 - val_acc: 0.6035\n",
            "Epoch 8/10\n",
            "129/128 [==============================] - 167s 1s/step - loss: 0.7129 - acc: 0.7769 - val_loss: 1.4862 - val_acc: 0.5930\n",
            "Epoch 9/10\n",
            "129/128 [==============================] - 165s 1s/step - loss: 0.6669 - acc: 0.7936 - val_loss: 1.4752 - val_acc: 0.6005\n",
            "Epoch 10/10\n",
            "129/128 [==============================] - 167s 1s/step - loss: 0.6376 - acc: 0.8006 - val_loss: 1.4748 - val_acc: 0.6045\n"
          ],
          "name": "stdout"
        },
        {
          "output_type": "display_data",
          "data": {
            "image/png": "[encoded data removed]",
            "text/plain": [
              "<Figure size 1080x1080 with 2 Axes>"
            ]
          },
          "metadata": {
            "tags": []
          }
        }
      ]
    },
    {
      "cell_type": "markdown",
      "metadata": {
        "id": "c4JVnNuUibjV",
        "colab_type": "text"
      },
      "source": [
        "Validation set reached plateau ( not 100% because it keeps on decending but in a slow rate ) of loss around ~1.4 and accuracy around ~0.6"
      ]
    },
    {
      "cell_type": "markdown",
      "metadata": {
        "id": "OAk9FGyX2BlA",
        "colab_type": "text"
      },
      "source": [
        "## Training data with labeled data only\n"
      ]
    },
    {
      "cell_type": "code",
      "metadata": {
        "id": "cl4m3Vo62IwZ",
        "colab_type": "code",
        "outputId": "4d69f446-d753-4685-fd2b-3e5c8fd6f5f9",
        "colab": {
          "base_uri": "https://localhost:8080/",
          "height": 357
        }
      },
      "source": [
        "model.load_weights(\"model.h5\")\n",
        "EP = 10\n",
        "hist = model.fit_generator(train_batch,\n",
        "                            steps_per_epoch = train_batch.samples/BS,\n",
        "                            validation_data = valid_batch,\n",
        "                            validation_steps = valid_batch.samples/BS,\n",
        "                            epochs=EP)"
      ],
      "execution_count": 0,
      "outputs": [
        {
          "output_type": "stream",
          "text": [
            "Epoch 1/10\n",
            "129/128 [==============================] - 178s 1s/step - loss: 0.6155 - acc: 0.8014 - val_loss: 1.4368 - val_acc: 0.6100\n",
            "Epoch 2/10\n",
            "129/128 [==============================] - 167s 1s/step - loss: 0.5517 - acc: 0.8216 - val_loss: 1.4993 - val_acc: 0.6125\n",
            "Epoch 3/10\n",
            "129/128 [==============================] - 166s 1s/step - loss: 0.5781 - acc: 0.8181 - val_loss: 1.5060 - val_acc: 0.6210\n",
            "Epoch 4/10\n",
            "129/128 [==============================] - 165s 1s/step - loss: 0.5575 - acc: 0.8280 - val_loss: 1.4871 - val_acc: 0.6270\n",
            "Epoch 5/10\n",
            "129/128 [==============================] - 165s 1s/step - loss: 0.5228 - acc: 0.8341 - val_loss: 1.4923 - val_acc: 0.6250\n",
            "Epoch 6/10\n",
            "129/128 [==============================] - 166s 1s/step - loss: 0.5009 - acc: 0.8407 - val_loss: 1.5460 - val_acc: 0.6105\n",
            "Epoch 7/10\n",
            "129/128 [==============================] - 166s 1s/step - loss: 0.4652 - acc: 0.8497 - val_loss: 1.5194 - val_acc: 0.6230\n",
            "Epoch 8/10\n",
            "129/128 [==============================] - 166s 1s/step - loss: 0.4865 - acc: 0.8415 - val_loss: 1.5719 - val_acc: 0.6135\n",
            "Epoch 9/10\n",
            "129/128 [==============================] - 165s 1s/step - loss: 0.4624 - acc: 0.8470 - val_loss: 1.5327 - val_acc: 0.6215\n",
            "Epoch 10/10\n",
            "129/128 [==============================] - 165s 1s/step - loss: 0.4364 - acc: 0.8605 - val_loss: 1.5279 - val_acc: 0.6270\n"
          ],
          "name": "stdout"
        }
      ]
    },
    {
      "cell_type": "markdown",
      "metadata": {
        "id": "yRifrZt12Jwg",
        "colab_type": "text"
      },
      "source": [
        "## Training data with pseudo labeling - as one hot vectors.\n",
        "in addition to training set of 8222 imgs, a test set with pseudo labels of 10357 imgs is added to the training process.\n",
        "\n",
        "ratio of training/pseudo imgs in a batch of 64 imgs is 75%/25%."
      ]
    },
    {
      "cell_type": "code",
      "metadata": {
        "id": "1PbgzAWb2dvB",
        "colab_type": "code",
        "outputId": "e715e3c5-392b-4a91-8548-1f0700ddaacf",
        "colab": {
          "base_uri": "https://localhost:8080/",
          "height": 1000
        }
      },
      "source": [
        "model.load_weights(\"model.h5\")\n",
        "\n",
        "BS = 64\n",
        "_train_batch,_,_ = get_batches(HOME, shuffle=True, batch_size=int(3*(BS/4)),gen=gen)\n",
        "_,_valid_batch,_test_batch = get_batches(HOME, batch_size=int(BS/4),gen=gen)\n",
        "\n",
        "\n",
        "for i in range(10):\n",
        "  pseudo_test_labels = model.predict_generator(_test_batch,_test_batch.samples/int(BS/4),verbose=1) \n",
        "  \n",
        "  pseudo_test_labels_binary = np.zeros(pseudo_test_labels.shape)\n",
        "  idxs = np.argmax(pseudo_test_labels,axis=1)\n",
        "\n",
        "  numLabels = pseudo_test_labels.shape[0]\n",
        "  pseudo_test_labels_binary[np.arange(numLabels),idxs]=1\n",
        "\n",
        "  pseudo_test_batch = exteralLabelsIter(HOME + '/test',pseudo_test_labels_binary, batch_size=BS/4,gen=gen)\n",
        "  mixedIter = mixIterator([_train_batch,pseudo_test_batch])\n",
        "\n",
        "  EP = 1\n",
        "  model.fit_generator(mixedIter,\n",
        "                            steps_per_epoch = mixedIter.samples/BS,\n",
        "                            validation_data = valid_batch,\n",
        "                            validation_steps = valid_batch.samples/BS,\n",
        "                            epochs=EP)"
      ],
      "execution_count": 0,
      "outputs": [
        {
          "output_type": "stream",
          "text": [
            "Creating batches with following params -\n",
            "train_shuffle       :True\n",
            "batch_size          :48\n",
            "class_mode          :categorical\n",
            "gen used            :<keras.preprocessing.image.ImageDataGenerator object at 0x7f94fb96f358>\n",
            "target_size         :(224, 224)\n",
            "\n",
            "Found 8222 images belonging to 120 classes.\n",
            "Found 2000 images belonging to 120 classes.\n",
            "Found 10357 images belonging to 1 classes.\n",
            "Creating batches with following params -\n",
            "train_shuffle       :False\n",
            "batch_size          :16\n",
            "class_mode          :categorical\n",
            "gen used            :<keras.preprocessing.image.ImageDataGenerator object at 0x7f94fb96f358>\n",
            "target_size         :(224, 224)\n",
            "\n",
            "Found 8222 images belonging to 120 classes.\n",
            "Found 2000 images belonging to 120 classes.\n",
            "Found 10357 images belonging to 1 classes.\n",
            "648/647 [==============================] - 180s 277ms/step\n",
            "Found 10357 images belonging to 1 classes.\n",
            "mixIterator:Total number of imgs 18579\n",
            "Epoch 1/1\n",
            "291/290 [==============================] - 355s 1s/step - loss: 1.0907 - acc: 0.6824 - val_loss: 1.5139 - val_acc: 0.5910\n",
            "648/647 [==============================] - 181s 279ms/step\n",
            "Found 10357 images belonging to 1 classes.\n",
            "mixIterator:Total number of imgs 18579\n",
            "Epoch 1/1\n",
            "291/290 [==============================] - 355s 1s/step - loss: 0.9508 - acc: 0.7198 - val_loss: 1.4334 - val_acc: 0.6175\n",
            "648/647 [==============================] - 183s 282ms/step\n",
            "Found 10357 images belonging to 1 classes.\n",
            "mixIterator:Total number of imgs 18579\n",
            "Epoch 1/1\n",
            "291/290 [==============================] - 360s 1s/step - loss: 0.8202 - acc: 0.7470 - val_loss: 1.3882 - val_acc: 0.6225\n",
            "648/647 [==============================] - 184s 284ms/step\n",
            "Found 10357 images belonging to 1 classes.\n",
            "mixIterator:Total number of imgs 18579\n",
            "Epoch 1/1\n",
            "291/290 [==============================] - 362s 1s/step - loss: 0.7533 - acc: 0.7708 - val_loss: 1.3301 - val_acc: 0.6495\n",
            "648/647 [==============================] - 184s 284ms/step\n",
            "Found 10357 images belonging to 1 classes.\n",
            "mixIterator:Total number of imgs 18579\n",
            "Epoch 1/1\n",
            "291/290 [==============================] - 359s 1s/step - loss: 0.6807 - acc: 0.7877 - val_loss: 1.3501 - val_acc: 0.6390\n",
            "648/647 [==============================] - 184s 284ms/step\n",
            "Found 10357 images belonging to 1 classes.\n",
            "mixIterator:Total number of imgs 18579\n",
            "Epoch 1/1\n",
            "291/290 [==============================] - 358s 1s/step - loss: 0.6643 - acc: 0.7976 - val_loss: 1.3973 - val_acc: 0.6380\n",
            "648/647 [==============================] - 183s 282ms/step\n",
            "Found 10357 images belonging to 1 classes.\n",
            "mixIterator:Total number of imgs 18579\n",
            "Epoch 1/1\n",
            "291/290 [==============================] - 357s 1s/step - loss: 0.6288 - acc: 0.8054 - val_loss: 1.3610 - val_acc: 0.6310\n",
            "648/647 [==============================] - 185s 285ms/step\n",
            "Found 10357 images belonging to 1 classes.\n",
            "mixIterator:Total number of imgs 18579\n",
            "Epoch 1/1\n",
            "291/290 [==============================] - 363s 1s/step - loss: 0.5894 - acc: 0.8146 - val_loss: 1.4305 - val_acc: 0.6440\n",
            "648/647 [==============================] - 185s 286ms/step\n",
            "Found 10357 images belonging to 1 classes.\n",
            "mixIterator:Total number of imgs 18579\n",
            "Epoch 1/1\n",
            "291/290 [==============================] - 364s 1s/step - loss: 0.5564 - acc: 0.8269 - val_loss: 1.3718 - val_acc: 0.6500\n",
            "648/647 [==============================] - 184s 283ms/step\n",
            "Found 10357 images belonging to 1 classes.\n",
            "mixIterator:Total number of imgs 18579\n",
            "Epoch 1/1\n",
            "291/290 [==============================] - 363s 1s/step - loss: 0.5526 - acc: 0.8284 - val_loss: 1.4057 - val_acc: 0.6355\n"
          ],
          "name": "stdout"
        }
      ]
    },
    {
      "cell_type": "markdown",
      "metadata": {
        "id": "XzYR3ZUz2aaR",
        "colab_type": "text"
      },
      "source": [
        "## Training data with pseudo labeling - as probabily vectors."
      ]
    },
    {
      "cell_type": "code",
      "metadata": {
        "id": "oW_wKDHS2S8h",
        "colab_type": "code",
        "outputId": "99cd6df9-b583-4551-e625-2a19b359fb66",
        "colab": {
          "base_uri": "https://localhost:8080/",
          "height": 1000
        }
      },
      "source": [
        "model.load_weights(\"model.h5\")\n",
        "\n",
        "BS = 64\n",
        "_train_batch,_,_ = get_batches(HOME, shuffle=True, batch_size=int(3*(BS/4)),gen=gen)\n",
        "_,_valid_batch,_test_batch = get_batches(HOME, batch_size=int(BS/4),gen=gen)\n",
        "\n",
        "\n",
        "for i in range(10):\n",
        "  pseudo_test_labels = model.predict_generator(_test_batch,_test_batch.samples/int(BS/4),verbose=1) \n",
        "\n",
        "  pseudo_test_batch = exteralLabelsIter(HOME + '/test',pseudo_test_labels, batch_size=BS/4,gen=gen)\n",
        "  mixedIter = mixIterator([_train_batch,pseudo_test_batch])\n",
        "\n",
        "  EP = 1\n",
        "  model.fit_generator(mixedIter,\n",
        "                            steps_per_epoch = mixedIter.samples/BS,\n",
        "                            validation_data = valid_batch,\n",
        "                            validation_steps = valid_batch.samples/BS,\n",
        "                            epochs=EP)"
      ],
      "execution_count": 0,
      "outputs": [
        {
          "output_type": "stream",
          "text": [
            "Creating batches with following params -\n",
            "train_shuffle       :True\n",
            "batch_size          :48\n",
            "class_mode          :categorical\n",
            "gen used            :<keras.preprocessing.image.ImageDataGenerator object at 0x7f94fb96f358>\n",
            "target_size         :(224, 224)\n",
            "\n",
            "Found 8222 images belonging to 120 classes.\n",
            "Found 2000 images belonging to 120 classes.\n",
            "Found 10357 images belonging to 1 classes.\n",
            "Creating batches with following params -\n",
            "train_shuffle       :False\n",
            "batch_size          :16\n",
            "class_mode          :categorical\n",
            "gen used            :<keras.preprocessing.image.ImageDataGenerator object at 0x7f94fb96f358>\n",
            "target_size         :(224, 224)\n",
            "\n",
            "Found 8222 images belonging to 120 classes.\n",
            "Found 2000 images belonging to 120 classes.\n",
            "Found 10357 images belonging to 1 classes.\n",
            "648/647 [==============================] - 188s 290ms/step\n",
            "Found 10357 images belonging to 1 classes.\n",
            "mixIterator:Total number of imgs 18579\n",
            "Epoch 1/1\n",
            "291/290 [==============================] - 370s 1s/step - loss: 1.2055 - acc: 0.6794 - val_loss: 1.4334 - val_acc: 0.6105\n",
            "648/647 [==============================] - 189s 292ms/step\n",
            "Found 10357 images belonging to 1 classes.\n",
            "mixIterator:Total number of imgs 18579\n",
            "Epoch 1/1\n",
            "291/290 [==============================] - 370s 1s/step - loss: 1.0340 - acc: 0.7281 - val_loss: 1.3472 - val_acc: 0.6255\n",
            "648/647 [==============================] - 190s 294ms/step\n",
            "Found 10357 images belonging to 1 classes.\n",
            "mixIterator:Total number of imgs 18579\n",
            "Epoch 1/1\n",
            "291/290 [==============================] - 373s 1s/step - loss: 0.9114 - acc: 0.7604 - val_loss: 1.3568 - val_acc: 0.6160\n",
            "648/647 [==============================] - 189s 292ms/step\n",
            "Found 10357 images belonging to 1 classes.\n",
            "mixIterator:Total number of imgs 18579\n",
            "Epoch 1/1\n",
            "291/290 [==============================] - 370s 1s/step - loss: 0.8507 - acc: 0.7808 - val_loss: 1.3093 - val_acc: 0.6265\n",
            "648/647 [==============================] - 188s 290ms/step\n",
            "Found 10357 images belonging to 1 classes.\n",
            "mixIterator:Total number of imgs 18579\n",
            "Epoch 1/1\n",
            "291/290 [==============================] - 373s 1s/step - loss: 0.7936 - acc: 0.7994 - val_loss: 1.3020 - val_acc: 0.6315\n",
            "648/647 [==============================] - 189s 292ms/step\n",
            "Found 10357 images belonging to 1 classes.\n",
            "mixIterator:Total number of imgs 18579\n",
            "Epoch 1/1\n",
            "291/290 [==============================] - 372s 1s/step - loss: 0.7814 - acc: 0.7971 - val_loss: 1.2900 - val_acc: 0.6295\n",
            "648/647 [==============================] - 190s 293ms/step\n",
            "Found 10357 images belonging to 1 classes.\n",
            "mixIterator:Total number of imgs 18579\n",
            "Epoch 1/1\n",
            "291/290 [==============================] - 370s 1s/step - loss: 0.7561 - acc: 0.8096 - val_loss: 1.3027 - val_acc: 0.6350\n",
            "648/647 [==============================] - 190s 294ms/step\n",
            "Found 10357 images belonging to 1 classes.\n",
            "mixIterator:Total number of imgs 18579\n",
            "Epoch 1/1\n",
            "291/290 [==============================] - 371s 1s/step - loss: 0.7135 - acc: 0.8188 - val_loss: 1.2805 - val_acc: 0.6395\n",
            "648/647 [==============================] - 190s 293ms/step\n",
            "Found 10357 images belonging to 1 classes.\n",
            "mixIterator:Total number of imgs 18579\n",
            "Epoch 1/1\n",
            "291/290 [==============================] - 370s 1s/step - loss: 0.6909 - acc: 0.8238 - val_loss: 1.3207 - val_acc: 0.6385\n",
            "648/647 [==============================] - 188s 291ms/step\n",
            "Found 10357 images belonging to 1 classes.\n",
            "mixIterator:Total number of imgs 18579\n",
            "Epoch 1/1\n",
            "291/290 [==============================] - 370s 1s/step - loss: 0.6866 - acc: 0.8234 - val_loss: 1.3027 - val_acc: 0.6340\n"
          ],
          "name": "stdout"
        }
      ]
    },
    {
      "cell_type": "markdown",
      "metadata": {
        "id": "k6w4mz0_2eZW",
        "colab_type": "text"
      },
      "source": [
        "## Summary!\n",
        "\n",
        "\n"
      ]
    },
    {
      "cell_type": "markdown",
      "metadata": {
        "id": "nZhbl3xYu0C1",
        "colab_type": "text"
      },
      "source": [
        "*general note - \n",
        "I am putting aside the unsatisfactory accuracy of all models and mainly relate to conclusions regarding the psuedo labeling process.\n",
        "\n",
        "\n",
        "**Comparison**\n",
        "1. **regular trainging process**\n",
        "\n",
        "  - test set - loss was decreasing from 0.6 to 0.43, accuracy from 0.8 to 0.86.\n",
        "\n",
        "  - Validation set - loss incread to ~1.5 and best accuracy achieved is 0.627\n",
        "\n",
        "\n",
        "2. **pseudo labeling ( as one hot vectors ) training process**\n",
        "\n",
        "  - test set - loss jumped to ~1, as expected, and reached 0.55 at the end.\n",
        "\n",
        "  - Validation set - loss oscilates in range 1.33-14.3. best valition accuracy is 0.65 in 9th epoch.\n",
        "\n",
        "  - Note worth further checking - \n",
        "  \n",
        "    Might be interesting to see that 9th epoch test accuracy is 0.827.if we look at 'regular model training' epochs we can see that epoch with close training accuracy reached validation accuracy of 0.827.\n",
        "    \n",
        "    If current training process will continue to train more epochs, it might get better validation accuracy when reaching 'regular model training' best training accuracy (which is 0.86).\n",
        "\n",
        "3.  **pseudo labeling ( as probabily vectors ) training process**\n",
        "  - test set - comparing to previous pseudo labeling method, loss is higher in ~0.2 and accuracy looks quite the same.\n",
        "\n",
        "  - Validation set - comparing to previous pseudo labeling method, loss is slightly lower and accuracy is a bit lower.\n",
        "\n",
        "**Conclusions and next steps**\n",
        "- Pseudo labeling technique did show only slight improvements in loss and accuracy.\n",
        "\n",
        "- Improvements might be more noticable if comparison will be based on training accuracy and not epochs number ( as mentioned above in comparision )\n",
        "- It is worth checking different rations of labeled/pseusdo labeled imgs in a batch.\n",
        "\n",
        "- Current pseudo labeling generator does not implement batch shuffeling!\n",
        "Implementing shuffle might increase performance aswell.\n"
      ]
    }
  ]
}